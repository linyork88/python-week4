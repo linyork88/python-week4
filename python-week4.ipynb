{
 "cells": [
  {
   "cell_type": "code",
   "execution_count": null,
   "metadata": {},
   "outputs": [],
   "source": [
    "# 偶數, 奇數, 0\n",
    "num = 3\n",
    "if(num==0):\n",
    "    print(num , \"是零\")\n",
    "else:\n",
    "    if(num%2==0):\n",
    "        print(num , \"是偶數\")\n",
    "    else:\n",
    "        print(num , \"是奇數\")"
   ]
  },
  {
   "cell_type": "code",
   "execution_count": null,
   "metadata": {},
   "outputs": [],
   "source": [
    "num = 2\n",
    "if(num==0):\n",
    "    print(num , \"是零\")\n",
    "elif(num%2==0):\n",
    "    print(num , \"是偶數\")\n",
    "else:\n",
    "    print(num , \"是奇數\")"
   ]
  },
  {
   "cell_type": "code",
   "execution_count": null,
   "metadata": {},
   "outputs": [],
   "source": [
    "a=1\n",
    "b=2\n",
    "c=3\n",
    "d=4\n",
    "print(a<b)\n",
    "print(c>d)\n",
    "print((a<b or c>d))"
   ]
  },
  {
   "cell_type": "raw",
   "metadata": {},
   "source": []
  },
  {
   "cell_type": "code",
   "execution_count": null,
   "metadata": {},
   "outputs": [],
   "source": [
    "score= 85\n",
    "behavior = 90\n",
    "print((score>=85))\n",
    "print((behavior>=80))\n",
    "print((score>=85)and(behavior>=80))\n",
    "print((score>=85)or(behavior>=80))"
   ]
  },
  {
   "cell_type": "code",
   "execution_count": null,
   "metadata": {},
   "outputs": [],
   "source": [
    "score = 85\n",
    "behavior = 80\n",
    "print((score>90))\n",
    "print((behavior>80))\n",
    "print((score>90)and(behavior>80))\n",
    "print((score>90)or(behavior>80))"
   ]
  },
  {
   "cell_type": "code",
   "execution_count": null,
   "metadata": {},
   "outputs": [],
   "source": [
    "# 自我練習\n",
    "num = 3\n",
    "if(not(num==0) and not(num%2==1)):\n",
    "    print(num, \"是偶數\")\n",
    "elif(not(num==0 and num%2==0)):\n",
    "    print(num, \"是奇數\")\n",
    "else:\n",
    "    print(num , \"是零\")"
   ]
  },
  {
   "cell_type": "code",
   "execution_count": null,
   "metadata": {},
   "outputs": [],
   "source": [
    "num = 3\n",
    "if(num==0):\n",
    "    print(num, \"是零\")\n",
    "elif(num!=0)and(num%2==0):\n",
    "    print(num, \"是偶數\")\n",
    "elif(num!=0)and(num%2!=0):\n",
    "    print(num, \"是奇數\")"
   ]
  },
  {
   "cell_type": "code",
   "execution_count": null,
   "metadata": {},
   "outputs": [],
   "source": [
    "# while condition:\n",
    "#     statements(s)"
   ]
  },
  {
   "cell_type": "code",
   "execution_count": 6,
   "metadata": {},
   "outputs": [
    {
     "name": "stdout",
     "output_type": "stream",
     "text": [
      "1 小於5\n",
      "2 小於5\n",
      "3 小於5\n",
      "4 小於5\n",
      "5\n"
     ]
    }
   ],
   "source": [
    "i=1\n",
    "while (i<5):\n",
    "    print(i, \"小於5\")\n",
    "    \n",
    "    i=i+1\n",
    "print(i)"
   ]
  },
  {
   "cell_type": "code",
   "execution_count": 12,
   "metadata": {},
   "outputs": [
    {
     "name": "stdout",
     "output_type": "stream",
     "text": [
      "1 小於5\n",
      "2 小於5\n",
      "3 小於5\n",
      "4 小於5\n",
      "4\n"
     ]
    }
   ],
   "source": [
    "i=1\n",
    "for i in range(1, 4+1):\n",
    "    print(i , \"小於5\")\n",
    "print(i)"
   ]
  },
  {
   "cell_type": "code",
   "execution_count": 19,
   "metadata": {},
   "outputs": [
    {
     "name": "stdout",
     "output_type": "stream",
     "text": [
      "1 1\n",
      "2 3\n",
      "3 6\n",
      "4 10\n",
      "5 15\n",
      "6 21\n",
      "7 28\n",
      "8 36\n",
      "9 45\n",
      "10 55\n",
      "11 55\n"
     ]
    }
   ],
   "source": [
    "i=1 \n",
    "total = 0\n",
    "while (i<=10):\n",
    "    total= total + i\n",
    "    print(i, total)\n",
    "    i=i+1\n",
    "print(i, total)"
   ]
  },
  {
   "cell_type": "code",
   "execution_count": 26,
   "metadata": {},
   "outputs": [
    {
     "name": "stdout",
     "output_type": "stream",
     "text": [
      "10 55\n"
     ]
    }
   ],
   "source": [
    "total= 0\n",
    "for i in range(1,10+1):\n",
    "    total = total + i\n",
    "print(i, total)"
   ]
  },
  {
   "cell_type": "code",
   "execution_count": 30,
   "metadata": {},
   "outputs": [
    {
     "name": "stdout",
     "output_type": "stream",
     "text": [
      "迴圈內 1 1\n",
      "迴圈內 3 4\n",
      "迴圈內 5 9\n",
      "迴圈內 7 16\n",
      "迴圈內 9 25\n",
      "迴圈跳出 11 25\n"
     ]
    }
   ],
   "source": [
    "i=1 \n",
    "total = 0\n",
    "while (i<=10):\n",
    "    total= total + i\n",
    "    print(\"迴圈內\",i, total)\n",
    "    i=i+2\n",
    "print(\"迴圈跳出\",i, total)"
   ]
  },
  {
   "cell_type": "code",
   "execution_count": 33,
   "metadata": {},
   "outputs": [
    {
     "name": "stdout",
     "output_type": "stream",
     "text": [
      "迴圈內 1 1\n",
      "迴圈內 3 4\n",
      "迴圈內 5 9\n",
      "迴圈內 7 16\n",
      "迴圈內 9 25\n",
      "迴圈跳出 9 25\n"
     ]
    }
   ],
   "source": [
    "total= 0\n",
    "for i in range(1,10+1 ,2 ):\n",
    "    total = total + i\n",
    "    print(\"迴圈內\",i , total)\n",
    "print(\"迴圈跳出\",i, total)"
   ]
  },
  {
   "cell_type": "code",
   "execution_count": 34,
   "metadata": {},
   "outputs": [
    {
     "name": "stdout",
     "output_type": "stream",
     "text": [
      "迴圈內 0 0\n",
      "迴圈內 2 2\n",
      "迴圈內 4 6\n",
      "迴圈內 6 12\n",
      "迴圈內 8 20\n",
      "迴圈內 10 30\n",
      "迴圈跳出 12 30\n"
     ]
    }
   ],
   "source": [
    "i=0 \n",
    "total = 0\n",
    "while (i<=10):\n",
    "    total= total + i\n",
    "    print(\"迴圈內\",i, total)\n",
    "    i=i+2\n",
    "print(\"迴圈跳出\",i, total)"
   ]
  },
  {
   "cell_type": "code",
   "execution_count": 37,
   "metadata": {},
   "outputs": [
    {
     "name": "stdout",
     "output_type": "stream",
     "text": [
      "迴圈內 0 0\n",
      "迴圈內 2 2\n",
      "迴圈內 4 6\n",
      "迴圈內 6 12\n",
      "迴圈內 8 20\n",
      "迴圈內 10 30\n",
      "迴圈跳出 10 30\n"
     ]
    }
   ],
   "source": [
    "total= 0\n",
    "for i in range(0,10+1 ,2 ):\n",
    "    total = total + i\n",
    "    print(\"迴圈內\",i , total)\n",
    "print(\"迴圈跳出\",i, total)"
   ]
  },
  {
   "cell_type": "code",
   "execution_count": null,
   "metadata": {},
   "outputs": [],
   "source": []
  }
 ],
 "metadata": {
  "kernelspec": {
   "display_name": "Python 3",
   "language": "python",
   "name": "python3"
  },
  "language_info": {
   "codemirror_mode": {
    "name": "ipython",
    "version": 3
   },
   "file_extension": ".py",
   "mimetype": "text/x-python",
   "name": "python",
   "nbconvert_exporter": "python",
   "pygments_lexer": "ipython3",
   "version": "3.7.3"
  }
 },
 "nbformat": 4,
 "nbformat_minor": 2
}
